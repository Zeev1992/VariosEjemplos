{
 "cells": [
  {
   "cell_type": "markdown",
   "id": "619300d8",
   "metadata": {},
   "source": [
    "# Calcular el diámetro de un círculo"
   ]
  },
  {
   "cell_type": "code",
   "execution_count": 2,
   "id": "24bf764a",
   "metadata": {},
   "outputs": [
    {
     "name": "stdout",
     "output_type": "stream",
     "text": [
      "Ingresa el radio del círculo en centímetros: 30\n",
      "El área del círculo es: 2827.431\n"
     ]
    }
   ],
   "source": [
    "def calcular_area_circulo(radio):\n",
    "    pi = 3.14159\n",
    "    area = pi * radio ** 2\n",
    "    return area\n",
    "\n",
    "# Llamada a la función\n",
    "radio = float(input(\"Ingresa el radio del círculo en centímetros: \"))\n",
    "area_circulo = calcular_area_circulo(radio)\n",
    "print(\"El área del círculo es:\", area_circulo)"
   ]
  },
  {
   "cell_type": "code",
   "execution_count": null,
   "id": "5cd7ec2c",
   "metadata": {},
   "outputs": [],
   "source": []
  }
 ],
 "metadata": {
  "kernelspec": {
   "display_name": "Python 3 (ipykernel)",
   "language": "python",
   "name": "python3"
  },
  "language_info": {
   "codemirror_mode": {
    "name": "ipython",
    "version": 3
   },
   "file_extension": ".py",
   "mimetype": "text/x-python",
   "name": "python",
   "nbconvert_exporter": "python",
   "pygments_lexer": "ipython3",
   "version": "3.10.9"
  }
 },
 "nbformat": 4,
 "nbformat_minor": 5
}
