{
 "cells": [
  {
   "cell_type": "markdown",
   "id": "727c7615",
   "metadata": {},
   "source": [
    "# Guematria"
   ]
  },
  {
   "cell_type": "markdown",
   "id": "e18ba168",
   "metadata": {},
   "source": [
    "Gematría o gematria ​ es un método de interpretación de nombres, palabras y frases hebreas basada en la asignación de valor numérico a cada carácter del alfabeto hebreo, revelando de esta manera una conexión entre ellas."
   ]
  },
  {
   "cell_type": "markdown",
   "id": "f78240c8",
   "metadata": {},
   "source": [
    "__Al ejecutar el código pedirá una letra, palabra o frase en hebreo, y arrojará su valor numérico en total__"
   ]
  },
  {
   "cell_type": "code",
   "execution_count": 3,
   "id": "4855f1c9",
   "metadata": {},
   "outputs": [
    {
     "name": "stdout",
     "output_type": "stream",
     "text": [
      "Ingresa una letra, palabra o frase en hebreo: בן\n",
      "La suma total de los valores numéricos de las letras es: 52\n"
     ]
    }
   ],
   "source": [
    "def calcular_suma_hebrea(palabra):\n",
    "    valores_letras = {\n",
    "        'א': 1, 'ב': 2, 'ג': 3, 'ד': 4, 'ה': 5, 'ו': 6, 'ז': 7, 'ח': 8, 'ט': 9, 'י': 10,\n",
    "        'כ': 20, 'ך': 20, 'ל': 30, 'מ': 40, 'ם': 40, 'נ': 50, 'ן': 50, 'ס': 60, 'ע': 70,\n",
    "        'פ': 80, 'ף': 80, 'צ': 90, 'ץ': 90, 'ק': 100, 'ר': 200, 'ש': 300, 'ת': 400\n",
    "    }\n",
    "\n",
    "    suma = 0\n",
    "    for letra in palabra:\n",
    "        if letra in valores_letras:\n",
    "            suma += valores_letras[letra]\n",
    "\n",
    "    return suma\n",
    "\n",
    "palabra_hebrea = input(\"Ingresa una letra, palabra o frase en hebreo: \")\n",
    "suma_total = calcular_suma_hebrea(palabra_hebrea)\n",
    "print(\"La suma total de los valores numéricos de las letras es:\", suma_total)\n"
   ]
  },
  {
   "cell_type": "markdown",
   "id": "99cf8068",
   "metadata": {},
   "source": [
    "*Zeev"
   ]
  }
 ],
 "metadata": {
  "kernelspec": {
   "display_name": "Python 3 (ipykernel)",
   "language": "python",
   "name": "python3"
  },
  "language_info": {
   "codemirror_mode": {
    "name": "ipython",
    "version": 3
   },
   "file_extension": ".py",
   "mimetype": "text/x-python",
   "name": "python",
   "nbconvert_exporter": "python",
   "pygments_lexer": "ipython3",
   "version": "3.10.9"
  }
 },
 "nbformat": 4,
 "nbformat_minor": 5
}
