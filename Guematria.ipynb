{
 "cells": [
  {
   "cell_type": "markdown",
   "id": "8272e103",
   "metadata": {},
   "source": [
    "# Guematria"
   ]
  },
  {
   "cell_type": "markdown",
   "id": "99b7538c",
   "metadata": {},
   "source": [
    "Gematría o gematria ​ es un método de interpretación de nombres, palabras y frases hebreas basada en la asignación de valor numérico a cada carácter del alfabeto hebreo, revelando de esta manera una conexión entre ellas."
   ]
  },
  {
   "cell_type": "markdown",
   "id": "9a94c350",
   "metadata": {},
   "source": [
    "__Al ejecutar el código pedirá una letra, palabra o frase en hebreo, y arrojará su valor numérico en total__"
   ]
  },
  {
   "cell_type": "code",
   "execution_count": 2,
   "id": "3b464b6f",
   "metadata": {},
   "outputs": [
    {
     "name": "stdout",
     "output_type": "stream",
     "text": [
      "Ingresa una letra, palabra o una frase en hebreo: אימא ואבא\n",
      "La suma total de los valores numéricos de las letras es: 62\n"
     ]
    }
   ],
   "source": [
    "def calcular_suma_hebrea(palabra):\n",
    "    valores_letras = {\n",
    "        'א': 1, 'ב': 2, 'ג': 3, 'ד': 4, 'ה': 5, 'ו': 6, 'ז': 7, 'ח': 8, 'ט': 9, 'י': 10,\n",
    "        'כ': 20, 'ל': 30, 'מ': 40, 'נ': 50, 'ס': 60, 'ע': 70, 'פ': 80, 'צ': 90, 'ק': 100,\n",
    "        'ר': 200, 'ש': 400\n",
    "    }\n",
    "\n",
    "    suma = 0\n",
    "    for letra in palabra:\n",
    "        if letra in valores_letras:\n",
    "            suma += valores_letras[letra]\n",
    "\n",
    "    return suma\n",
    "\n",
    "palabra_hebrea = input(\"Ingresa una letra, palabra o una frase en hebreo: \")\n",
    "suma_total = calcular_suma_hebrea(palabra_hebrea)\n",
    "print(\"La suma total de los valores numéricos de las letras es:\", suma_total)"
   ]
  },
  {
   "cell_type": "markdown",
   "id": "d507457a",
   "metadata": {},
   "source": [
    "*Zeev"
   ]
  }
 ],
 "metadata": {
  "kernelspec": {
   "display_name": "Python 3 (ipykernel)",
   "language": "python",
   "name": "python3"
  },
  "language_info": {
   "codemirror_mode": {
    "name": "ipython",
    "version": 3
   },
   "file_extension": ".py",
   "mimetype": "text/x-python",
   "name": "python",
   "nbconvert_exporter": "python",
   "pygments_lexer": "ipython3",
   "version": "3.10.9"
  }
 },
 "nbformat": 4,
 "nbformat_minor": 5
}
