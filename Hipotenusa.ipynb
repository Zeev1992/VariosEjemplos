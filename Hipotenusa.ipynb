{
 "cells": [
  {
   "cell_type": "markdown",
   "id": "db8c1b22",
   "metadata": {},
   "source": [
    "# Hipotenusa"
   ]
  },
  {
   "cell_type": "markdown",
   "id": "dc9bfed7",
   "metadata": {},
   "source": [
    "Este código te permitirá calcular la hipotenusa o los valores de los catetos (a y b) de un triángulo rectángulo. El programa solicitará el valor que deseas calcular (c, a o b) y luego te pedirá los valores correspondientes."
   ]
  },
  {
   "cell_type": "code",
   "execution_count": 1,
   "id": "a6952e7d",
   "metadata": {},
   "outputs": [
    {
     "name": "stdout",
     "output_type": "stream",
     "text": [
      "¿Qué deseas calcular? (c, a o b): c\n",
      "Ingresa el valor de a: 10\n",
      "Ingresa el valor de b: 20\n",
      "La hipotenusa es: 22.360679774997898\n"
     ]
    }
   ],
   "source": [
    "import math\n",
    "\n",
    "def calcular_hipotenusa(a, b):\n",
    "    return math.sqrt(a**2 + b**2)\n",
    "\n",
    "def calcular_cateto(a, c):\n",
    "    return math.sqrt(c**2 - a**2)\n",
    "\n",
    "def calcular_cateto_b(b, c):\n",
    "    return math.sqrt(c**2 - b**2)\n",
    "\n",
    "def main():\n",
    "    opcion = input(\"¿Qué deseas calcular? (c, a o b): \")\n",
    "\n",
    "    if opcion == \"c\":\n",
    "        a = float(input(\"Ingresa el valor de a: \"))\n",
    "        b = float(input(\"Ingresa el valor de b: \"))\n",
    "        hipotenusa = calcular_hipotenusa(a, b)\n",
    "        print(\"La hipotenusa es:\", hipotenusa)\n",
    "    elif opcion == \"a\":\n",
    "        b = float(input(\"Ingresa el valor de b: \"))\n",
    "        c = float(input(\"Ingresa el valor de c: \"))\n",
    "        cateto_a = calcular_cateto(b, c)\n",
    "        print(\"El cateto a es:\", cateto_a)\n",
    "    elif opcion == \"b\":\n",
    "        a = float(input(\"Ingresa el valor de a: \"))\n",
    "        c = float(input(\"Ingresa el valor de c: \"))\n",
    "        cateto_b = calcular_cateto_b(a, c)\n",
    "        print(\"El cateto b es:\", cateto_b)\n",
    "    else:\n",
    "        print(\"Opción inválida. Por favor, selecciona 'c', 'a' o 'b'.\")\n",
    "\n",
    "if __name__ == \"__main__\":\n",
    "    main()\n"
   ]
  },
  {
   "cell_type": "markdown",
   "id": "4926cd8b",
   "metadata": {},
   "source": [
    "*Zeev"
   ]
  }
 ],
 "metadata": {
  "kernelspec": {
   "display_name": "Python 3 (ipykernel)",
   "language": "python",
   "name": "python3"
  },
  "language_info": {
   "codemirror_mode": {
    "name": "ipython",
    "version": 3
   },
   "file_extension": ".py",
   "mimetype": "text/x-python",
   "name": "python",
   "nbconvert_exporter": "python",
   "pygments_lexer": "ipython3",
   "version": "3.10.9"
  }
 },
 "nbformat": 4,
 "nbformat_minor": 5
}
